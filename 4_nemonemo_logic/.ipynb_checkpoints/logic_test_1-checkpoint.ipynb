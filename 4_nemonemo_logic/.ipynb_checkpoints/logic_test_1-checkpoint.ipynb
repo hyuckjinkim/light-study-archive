{
 "cells": [
  {
   "cell_type": "code",
   "execution_count": 164,
   "id": "3b225011-a3eb-41e1-b093-4e4a4a470844",
   "metadata": {},
   "outputs": [],
   "source": [
    "import numpy as np\n",
    "import pandas as pd\n",
    "import datetime\n",
    "import pytz\n",
    "from tqdm import trange\n",
    "\n",
    "class NemoLogic:\n",
    "    def __init__(self,questions_row,questions_col):\n",
    "        assert len(questions_row)==len(questions_col), \\\n",
    "            \"questions_row and questions_col must be same\"\n",
    "        \n",
    "        self.data = pd.DataFrame(index=questions_row,columns=questions_col)\n",
    "        self.data.fillna('?',inplace=True)\n",
    "        \n",
    "        self.answers   = None\n",
    "        self.start_time = datetime.datetime.now(pytz.timezone('Asia/Seoul'))\n",
    "        self.end_time   = datetime.datetime.now(pytz.timezone('Asia/Seoul'))\n",
    "    \n",
    "    def fit(self,n_trial=1,progress=True):\n",
    "        # _apply_basic_logic,_add_complete,_add_ox,_add_o,_add_complete2\n",
    "        if progress:\n",
    "            pbar = trange(n_trial)\n",
    "        else:\n",
    "            pbar = range(trial)\n",
    "            \n",
    "        for _ in pbar:\n",
    "            # (1) by row\n",
    "            questions,answers = self.data.index, self.data.values\n",
    "            answers = self._apply_basic_logic(questions,answers)\n",
    "            answers = self._add_complete(questions,answers)\n",
    "            answers = self._add_ox(questions,answers)\n",
    "            answers = self._add_o(questions,answers)\n",
    "            answers = self._add_complete2(questions,answers)\n",
    "            #answers = self._add_x(questions,answers)\n",
    "            self.data = pd.DataFrame(answers,index=questions,columns=self.data.columns)\n",
    "\n",
    "            # (2) by column\n",
    "            self.data = self.data.T\n",
    "            questions,answers = self.data.index, self.data.values.tolist()\n",
    "            answers = self._apply_basic_logic(questions,answers)\n",
    "            answers = self._add_complete(questions,answers)\n",
    "            answers = self._add_ox(questions,answers)\n",
    "            answers = self._add_o(questions,answers)\n",
    "            answers = self._add_complete2(questions,answers)\n",
    "            #answers = self._add_x(questions,answers)\n",
    "            self.data = pd.DataFrame(answers,index=questions,columns=self.data.columns)\n",
    "            self.data = self.data.T\n",
    "    \n",
    "    def transform(self):\n",
    "        return self.data\n",
    "    \n",
    "    def fit_transform(self,n_trial=1,progress=True):\n",
    "        # _apply_basic_logic,_add_complete,_add_ox,_add_o,_add_complete2\n",
    "        if progress:\n",
    "            pbar = trange(n_trial)\n",
    "        else:\n",
    "            pbar = range(trial)\n",
    "        \n",
    "        for _ in pbar:\n",
    "            # (1) by row\n",
    "            questions,answers = self.data.index, self.data.values\n",
    "            answers = self._apply_basic_logic(questions,answers)\n",
    "            answers = self._add_complete(questions,answers)\n",
    "            answers = self._add_ox(questions,answers)\n",
    "            answers = self._add_o(questions,answers)\n",
    "            answers = self._add_complete2(questions,answers)\n",
    "            self.data = pd.DataFrame(answers,index=questions,columns=self.data.columns)\n",
    "\n",
    "            # (2) by column\n",
    "            self.data = self.data.T\n",
    "            questions,answers = self.data.index, self.data.values.tolist()\n",
    "            answers = self._apply_basic_logic(questions,answers)\n",
    "            answers = self._add_complete(questions,answers)\n",
    "            answers = self._add_ox(questions,answers)\n",
    "            answers = self._add_o(questions,answers)\n",
    "            answers = self._add_complete2(questions,answers)\n",
    "            self.data = pd.DataFrame(answers,index=questions,columns=self.data.columns)\n",
    "            self.data = self.data.T\n",
    "        \n",
    "        return self.data\n",
    "    \n",
    "    #------------------------------------------------------------------#\n",
    "    # [fn1] 기본로직\n",
    "    #------------------------------------------------------------------#\n",
    "    def _apply_basic_logic(self,questions,answers):\n",
    "        questions = np.array(questions)\n",
    "        answers   = np.array(answers)\n",
    "        # 행 기준으로 작성\n",
    "        new_answers = []\n",
    "        for question,answer in zip(questions,answers):\n",
    "            question = question.split(',')\n",
    "\n",
    "            #------------------------------------------------------------------#\n",
    "            # (1) 좌우에서, 시작부터 \"O\"가 연속인 것들 제거해서 정답찾기\n",
    "            # ex. question : (2,2)\n",
    "            #     answer   : (O,O,?,?,?)\n",
    "            #     -> \n",
    "            #     question : (2)\n",
    "            #     answer   : (X,?,?)\n",
    "            #------------------------------------------------------------------#\n",
    "            # (1-1) 반복되는 \"0\"이 끝나는지점 찾기 (start,end)\n",
    "            # 왼쪽부터\n",
    "            for start in range(len(answer)):\n",
    "                if answer[start]!='O':\n",
    "                    break\n",
    "                else:\n",
    "                    pass\n",
    "            # 오른쪽부터\n",
    "            for end in range(len(answer)):\n",
    "                if answer[-end-1]!='O':\n",
    "                    break\n",
    "                else:\n",
    "                    pass\n",
    "\n",
    "            # (1-2) ~start,end~가 제외되는 새로운 answer생성\n",
    "            #       ~start,end~는 따로 저장\n",
    "            if end==0:\n",
    "                new_answer = answer[start:]\n",
    "                new_answer_left_prefix  = answer[:start]\n",
    "                new_answer_right_prefix = np.array([])\n",
    "            else:\n",
    "                new_answer = answer[start:-end-1]\n",
    "                new_answer_left_prefix  = answer[:start]\n",
    "                new_answer_right_prefix = answer[-end-1:]\n",
    "\n",
    "            # (1-3) 연속된 \"O\"를 뺐으므로, 질문을 수정 (왼쪽에만 영향을 주므로, 왼쪽만 변경)\n",
    "            # [1] 첫번째 질문은 이미 맞춘 경우에, 첫번째 질문을 제외\n",
    "            #     + 답변의 맨 첫번째값은 \"X\"로 넣기\n",
    "            if int(question[0])==len(new_answer_left_prefix):\n",
    "                question = question[1:]\n",
    "                if len(new_answer)>0:\n",
    "                    new_answer[0] = \"X\"\n",
    "            # [2] 연속된 \"O\"가 빠진 만큼, 정답의 개수를 줄이기\n",
    "            elif int(question[0])>len(new_answer_left_prefix):\n",
    "                question[0] = str(int(question[0])-len(new_answer_left_prefix))\n",
    "            else:\n",
    "                pass\n",
    "\n",
    "            #------------------------------------------------------------------#\n",
    "            # (2) 수식을 근거로 \"O\"가 확정적인 대상들 찾기\n",
    "            #     -> 좌우로 모르는 개수 = 열의개수 - (질문의합 + 질문의개수 - 1)\n",
    "            #------------------------------------------------------------------#\n",
    "            # 좌우로 모르는 개수\n",
    "            n_unknown = sum([int(q) for q in question]) + len(question) - 1\n",
    "            n_unknown = len(new_answer) - n_unknown\n",
    "\n",
    "            # (2-1) (1-3)에서 question이 제외되어 질문이 모두 사라진 경우\n",
    "            #       -> 정답을 모두 맞췄으므로 더이상 할 필요가 없음\n",
    "            if len(question)==0:\n",
    "                new_answers.append(answer)\n",
    "\n",
    "            # (2-2) 모르는 개수가 없는 경우에는 question 자체가 답이므로, question을 answer로 넣기\n",
    "            elif n_unknown==0:\n",
    "                new_answer = []\n",
    "                for q_i,q in enumerate(question):\n",
    "                    new_answer+=['O']*int(q)\n",
    "                    if q_i+1!=len(question):\n",
    "                        new_answer+=['X']\n",
    "                    else:\n",
    "                        pass\n",
    "                new_answer = new_answer_left_prefix.tolist() + new_answer + new_answer_right_prefix.tolist()\n",
    "                new_answers.append(new_answer)\n",
    "\n",
    "            # (2-3) 모르는 개수가 있는 경우\n",
    "            else:\n",
    "                # 순서 생성\n",
    "                new_answer_idx = [a_i for a_i in range(len(new_answer))]\n",
    "\n",
    "                # [모르는거], [아는거], [모르는거], [아는거], [모르는거]\n",
    "                unknown_left_idx   = new_answer_idx[:n_unknown]\n",
    "                known_left_idx     = new_answer_idx[n_unknown:int(question[0])]\n",
    "                unknown_middle_idx = new_answer_idx[int(question[0]):len(new_answer)-int(question[-1])]\n",
    "                known_right_idx    = new_answer_idx[len(new_answer)-int(question[-1]):-n_unknown]\n",
    "                unknown_right_idx  = new_answer_idx[-n_unknown:]\n",
    "\n",
    "                # 아는거/모르는거 각각 인덱스합치기\n",
    "                unknown_idx = unknown_left_idx+unknown_middle_idx+unknown_right_idx\n",
    "                known_idx   = known_left_idx+known_right_idx\n",
    "\n",
    "                # 중복제거\n",
    "                unknown_idx = sorted(pd.unique(unknown_idx))\n",
    "                known_idx   = sorted(pd.unique(known_idx))\n",
    "\n",
    "                # \"O\",\"X\"인 경우에는 그대로 넣고,\n",
    "                # 수식에 의해 아는거인 경우에는 \"O\"로 넣고,\n",
    "                # 모르는거면 \"?\"로 넣기\n",
    "                new_answer = ['O' if new_answer[idx_i]=='O' else  # 이미 \"O\"면 건드리지 않도록 설정\n",
    "                              'X' if new_answer[idx_i]=='X' else\n",
    "                              'O' if idx_i in known_idx else\n",
    "                              '?' if idx_i in unknown_idx else\n",
    "                              'ERROR' for idx_i in range(len(new_answer))]\n",
    "                new_answer = new_answer_left_prefix.tolist() + new_answer + new_answer_right_prefix.tolist()\n",
    "\n",
    "                # final append\n",
    "                new_answers.append(new_answer)\n",
    "                \n",
    "        # final return\n",
    "        return new_answers\n",
    "\n",
    "    #------------------------------------------------------------------#\n",
    "    # [fn2] 정답확인 - O랑 ?의 합이 question의 합과 같은 경우에, ?를 O로 넣기\n",
    "    # ex. question : (1,2)\n",
    "    #     answer   : (O,X,?,O,X)\n",
    "    #     ->\n",
    "    #     answer   : (O,X,O,O,X)\n",
    "    #------------------------------------------------------------------#\n",
    "    def _add_complete(self,questions,answers):\n",
    "        questions = np.array(questions)\n",
    "        answers   = np.array(answers)\n",
    "        new_answers = []\n",
    "        for question,answer in zip(questions,answers):\n",
    "            question_list = [int(x) for x in question.split(',')]\n",
    "            new_answer = answer.copy()\n",
    "\n",
    "            n_o       = np.where(np.array(new_answer)=='O',1,0).sum()\n",
    "            n_x       = np.where(np.array(new_answer)=='X',1,0).sum()\n",
    "            n_unknown = np.where(np.array(new_answer)=='?',1,0).sum()\n",
    "            if n_o+n_unknown==sum(question_list):\n",
    "                new_answer = [a.replace('?','O') for a in new_answer]\n",
    "                new_answers.append(new_answer)\n",
    "            else:\n",
    "                new_answers.append(new_answer)\n",
    "                \n",
    "        # final return\n",
    "        return new_answers\n",
    "\n",
    "    #------------------------------------------------------------------#\n",
    "    # [fn3] 정답나온뒤에 X넣기\n",
    "    # ex. question : (1,1)\n",
    "    #     answer   : (O,?,?,?,?)\n",
    "    #     ->\n",
    "    #     answer   : (O,X,?,?,?)\n",
    "    #------------------------------------------------------------------#\n",
    "    def _add_block(self,questions,answers):\n",
    "        questions = np.array(questions)\n",
    "        answers   = np.array(answers)\n",
    "        new_answers = []\n",
    "        for question,answer in zip(questions,answers):\n",
    "            question_list = [int(x) for x in question.split(',')]\n",
    "            new_answer = answer.copy()\n",
    "\n",
    "            q_i=0\n",
    "            start=0\n",
    "            for a_i in range(len(new_answer)):\n",
    "                target = new_answer[start:a_i+1]\n",
    "                n_o       = np.where(np.array(target)=='O',1,0).sum()\n",
    "                n_unknown = np.where(np.array(target)=='?',1,0).sum()\n",
    "\n",
    "                # 마지막에왔는데 ['X']를 하나 더 더하면 length가 +1되서 맞지않음\n",
    "                if q_i+1==len(question_list):\n",
    "                    pass\n",
    "                # (1) O의 개수가 question이랑 같을때\n",
    "                # (2) 마지막이 아닌 경우\n",
    "                # (3) \"?\"가 없는 경우\n",
    "                elif (n_o==question_list[q_i]) & (a_i+1!=len(new_answer)) & (n_unknown==0):\n",
    "                    new_answer = list(new_answer[:start]) + list(target) + ['X'] + list(new_answer[a_i+2:])\n",
    "                    q_i+=1\n",
    "                    start=a_i+1\n",
    "                else:\n",
    "                    pass\n",
    "\n",
    "            new_answers.append(new_answer)\n",
    "\n",
    "        # final return\n",
    "        return new_answers\n",
    "\n",
    "    #------------------------------------------------------------------#\n",
    "    # [fn4] 정답나온뒤에 O넣기\n",
    "    # ex. question : (2,1)\n",
    "    #     answer   : (O,?,X,X,?)\n",
    "    #     ->\n",
    "    #     answer   : (O,O,X,X,O)\n",
    "    #------------------------------------------------------------------#\n",
    "    def _add_ox(self,questions,answers):\n",
    "        questions = np.array(questions)\n",
    "        answers   = np.array(answers)\n",
    "        new_answers = []\n",
    "        for question,answer in zip(questions,answers):\n",
    "            question_list = [int(x) for x in question.split(',')]\n",
    "            new_answer = answer.copy()\n",
    "\n",
    "            # X개수확인\n",
    "            n_o = np.where(np.array(new_answer)=='O',1,0).sum()\n",
    "            n_x = np.where(np.array(new_answer)=='X',1,0).sum()\n",
    "            n_unknown = np.where(np.array(new_answer)=='?',1,0).sum()\n",
    "            n_check = len(answer)-sum(question_list)-1\n",
    "\n",
    "            # (1) X가 다 입력되어있고,\n",
    "            #     O,?의 합이 question이랑 같으면, ?를 O로 넣기\n",
    "            if (n_x==n_check) & (n_o+n_unknown==sum(question_list)):\n",
    "                new_answer = [a.replace('?','O') for a in new_answer]\n",
    "\n",
    "            # (2) O가 다 입력되어있으면, ?를 X로 넣기\n",
    "            if n_o==sum(question_list):\n",
    "                new_answer = [a.replace('?','X') for a in new_answer]\n",
    "\n",
    "            new_answers.append(new_answer)\n",
    "\n",
    "        # final return\n",
    "        return new_answers\n",
    "\n",
    "    #------------------------------------------------------------------#\n",
    "    # [fn5] 앞에 ?가 없고, 연속되는 O 뒤에 ?가 있으면 -> question이랑 비교해서 정답맞추기\n",
    "    # ex. question : (1,3)\n",
    "    #     answer   : (O,X,O,O,?)\n",
    "    #     ->\n",
    "    #     answer   : (O,X,O,O,O)\n",
    "    #------------------------------------------------------------------#\n",
    "    def _add_o(self,questions,answers):\n",
    "        questions = np.array(questions)\n",
    "        answers   = np.array(answers)\n",
    "        new_answers = []\n",
    "        check_i=0\n",
    "        for question,answer in zip(questions,answers):\n",
    "            check_i+=1\n",
    "            question_list = [int(x) for x in question.split(',')]\n",
    "            new_answer = answer.copy()\n",
    "\n",
    "            # (1) ?가 없으면 pass\n",
    "            if np.where(np.array(new_answer)=='?',1,0).sum()==0:\n",
    "                new_answers.append(new_answer)\n",
    "            else:\n",
    "                q_i=0\n",
    "                repeat_o_cnt = 0\n",
    "                repeat_u_cnt = 0\n",
    "                repeat_o_cnt_last = 0\n",
    "                repeat_u_cnt_last = 0\n",
    "\n",
    "                for a_i in range(len(new_answer)):\n",
    "\n",
    "                    # 반복되는 o,?의 개수 세기\n",
    "                    if new_answer[a_i]=='O':\n",
    "                        repeat_o_cnt+=1\n",
    "                        repeat_u_cnt_last = repeat_u_cnt # O로바뀌면 연속?의개수의 기록사라지니까 저장\n",
    "                        repeat_u_cnt=0\n",
    "                    elif new_answer[a_i]=='?':\n",
    "                        repeat_u_cnt+=1\n",
    "                        repeat_o_cnt_last = repeat_o_cnt # ?로바뀌면 연속O의개수의 기록사라지니까 저장\n",
    "                        repeat_o_cnt=0\n",
    "                    else:\n",
    "                        repeat_o_cnt_last = repeat_o_cnt\n",
    "                        repeat_u_cnt_last = repeat_u_cnt\n",
    "                        repeat_o_cnt=0\n",
    "                        repeat_u_cnt=0\n",
    "\n",
    "                    # (2) O가 나오기도전에 ?가 나오면 break\n",
    "                    if (new_answer[a_i]=='?') & (repeat_o_cnt_last==0):\n",
    "                        break\n",
    "                    # (3) X가 나오면 pass\n",
    "                    elif new_answer[a_i]=='X':\n",
    "                        pass\n",
    "                    # 질문범위벗어나면 break\n",
    "                    elif q_i+1>len(question_list):\n",
    "                        pass\n",
    "                    # (4) O가 나왔는데 해당iter의 question에 맞으면, 다음iter로 넘기기\n",
    "                    elif (new_answer[a_i]=='O') & (repeat_o_cnt==question_list[q_i]):\n",
    "                        q_i+=1\n",
    "                    # (5) ?가 나왔는데, 다음 question이 없는 경우에 O로 넣기\n",
    "                    elif (new_answer[a_i]=='?') & (q_i+1==len(question_list)):\n",
    "                        #print('changed')\n",
    "                        new_answer = list(new_answer[:a_i]) + list(['O']) + list(new_answer[a_i+1:])\n",
    "                    else:\n",
    "                        pass\n",
    "\n",
    "                # final append\n",
    "                new_answers.append(new_answer)\n",
    "                \n",
    "        # final return\n",
    "        return new_answers\n",
    "\n",
    "    #------------------------------------------------------------------#\n",
    "    # [fn6] \"O\"랑 \"?\"로 question을 맞출 수 있는 경우에, \"?\"를 \"O\"로 채워넣기\n",
    "    # ex. question : (2,1)\n",
    "    #     answer   : (O,?,X,O,X)\n",
    "    #     ->\n",
    "    #     answer   : (O,O,X,O,X)\n",
    "    #------------------------------------------------------------------#\n",
    "    def _add_complete2(self,questions,answers):\n",
    "        questions = np.array(questions)\n",
    "        answers   = np.array(answers)\n",
    "        new_answers = []\n",
    "        for question,answer in zip(questions,answers):\n",
    "            question_list = [int(x) for x in question.split(',')]\n",
    "            new_answer = answer.copy()\n",
    "\n",
    "            # 시작이 ?이면 pass\n",
    "            if new_answer[0]=='?':\n",
    "                new_answers.append(new_answer)\n",
    "            else:\n",
    "                q_i = 0\n",
    "                start = 0\n",
    "                for a_i in range(len(new_answer)):\n",
    "                    target = new_answer[start:a_i+1]\n",
    "                    n_o       = np.where(np.array(target)=='O',1,0).sum()\n",
    "                    n_unknown = np.where(np.array(target)=='?',1,0).sum()\n",
    "\n",
    "                    # 마지막에왔는데 ['X']를 하나 더 더하면 length가 +1되서 맞지않음\n",
    "                    if q_i+1==len(question_list):\n",
    "                        pass\n",
    "                    elif n_o+n_unknown==question_list[q_i]:\n",
    "                        target = [t.replace('?','O') for t in target]\n",
    "                        new_answer = list(new_answer[:start]) + list(target) + list(['X']) + list(new_answer[a_i+2:])\n",
    "                        q_i+=1\n",
    "                        start=a_i+1\n",
    "                    else:\n",
    "                        pass\n",
    "\n",
    "                # final append\n",
    "                new_answers.append(new_answer)\n",
    "\n",
    "        # final return\n",
    "        return new_answers\n",
    "    \n",
    "    #------------------------------------------------------------------#\n",
    "    # [fn7] 뒤에 O가 있고, \n",
    "    # ex. question : (2,1)\n",
    "    #     answer   : (O,?,X,O,X)\n",
    "    #     ->\n",
    "    #     answer   : (O,O,X,O,X)\n",
    "    #------------------------------------------------------------------#\n",
    "    def _add_x(self,questions,answers):\n",
    "        questions = np.array(questions)\n",
    "        answers   = np.array(answers)\n",
    "        new_answers = []\n",
    "        for question,answer in zip(questions,answers):\n",
    "            question_list = [int(x) for x in question.split(',')]\n",
    "            new_answer = answer.copy()\n",
    "            \n",
    "            if len(question_list)>2:\n",
    "                pass\n",
    "            else:\n",
    "\n",
    "                # 앞으로부터\n",
    "                q_i=0\n",
    "                for a_i in np.arange(0,len(new_answer),1):\n",
    "                    is_bf_all_unknown = np.where(np.array(new_answer[:a_i])!='?',1,0).sum()==0\n",
    "                    is_now_answer_o   = new_answer[a_i]=='O'\n",
    "                    is_af_any_o       = np.where(np.array(new_answer[a_i+1:])=='O',1,0).sum()>0\n",
    "                    is_first_o_loc    = len(new_answer[:a_i])>=question_list[q_i]\n",
    "                    if is_bf_all_unknown & is_now_answer_o & is_af_any_o & is_first_o_loc:\n",
    "                        #print('a_i: {}, changed'.format(a_i))\n",
    "                        new_answer = ['X']*len(new_answer[:a_i-question_list[q_i]+1]) + new_answer[a_i-question_list[q_i]+1:]\n",
    "\n",
    "                # 뒤로부터\n",
    "                q_i=-1\n",
    "                for a_i in np.arange(0,len(new_answer),1)[::-1]:\n",
    "                    print(a_i)\n",
    "                    is_af_all_unknown = np.where(np.array(new_answer[a_i+1:])!='?',1,0).sum()==0\n",
    "                    is_now_answer_o   = new_answer[a_i]=='O'\n",
    "                    is_bf_any_o       = np.where(np.array(new_answer[:a_i])=='O',1,0).sum()>0\n",
    "                    is_first_o_loc    = len(new_answer[a_i+1:])>=question_list[q_i]\n",
    "                    if is_af_all_unknown & is_now_answer_o & is_bf_any_o & is_first_o_loc:\n",
    "                        #print('a_i: {}, changed'.format(a_i))\n",
    "                        new_answer = new_answer[:a_i+question_list[q_i]] + ['X']*len(new_answer[a_i+question_list[q_i]:])\n",
    "                \n",
    "                # final append\n",
    "                new_answers.append(new_answer)\n",
    "                \n",
    "        return new_answers"
   ]
  },
  {
   "cell_type": "code",
   "execution_count": 165,
   "id": "5a869833-8f2c-41ce-b050-db0143acbe58",
   "metadata": {},
   "outputs": [
    {
     "name": "stdout",
     "output_type": "stream",
     "text": [
      "13 13\n"
     ]
    }
   ],
   "source": [
    "# # https://m.blog.naver.com/PostView.naver?isHttpsRedirect=true&blogId=sangseungedu&logNo=221543957659\n",
    "# questions_row = [\"4,1\",\"5\",\"2,3\",\"2,1\",\"1,2\",\"1,1\"]\n",
    "# questions_col = [\"1,3\",\"4\",\"2,2\",\"5\",\"2\",\"3,1\"]\n",
    "\n",
    "questions_row = [\"2,2\",\"4,4\",\"11\",\"2,2\",\"1,2,2,3\",\"1,2,2,1,2\",\"1,1,1,1\",\"2,2,1\",\"8,1\",\"10\",\"3,6\",\"3,6\",\"2,2,2\"]\n",
    "questions_col = [\"2\",\"8\",\"4,2\",\"2,2,5\",\"1,2,5\",\"1,1,4\",\"1,2,2\",\"2,2,5\",\"4,6\",\"12\",\"2,1,4\",\"2,4\",\"7\"]\n",
    "print(len(questions_row),len(questions_col))"
   ]
  },
  {
   "cell_type": "code",
   "execution_count": 166,
   "id": "014c9215-b051-449c-9240-40770358b826",
   "metadata": {},
   "outputs": [
    {
     "name": "stderr",
     "output_type": "stream",
     "text": [
      "100%|████████████████████████████████████████| 100/100 [00:00<00:00, 230.63it/s]\n"
     ]
    },
    {
     "data": {
      "text/html": [
       "<div>\n",
       "<style scoped>\n",
       "    .dataframe tbody tr th:only-of-type {\n",
       "        vertical-align: middle;\n",
       "    }\n",
       "\n",
       "    .dataframe tbody tr th {\n",
       "        vertical-align: top;\n",
       "    }\n",
       "\n",
       "    .dataframe thead th {\n",
       "        text-align: right;\n",
       "    }\n",
       "</style>\n",
       "<table border=\"1\" class=\"dataframe\">\n",
       "  <thead>\n",
       "    <tr style=\"text-align: right;\">\n",
       "      <th></th>\n",
       "      <th>2</th>\n",
       "      <th>8</th>\n",
       "      <th>4,2</th>\n",
       "      <th>2,2,5</th>\n",
       "      <th>1,2,5</th>\n",
       "      <th>1,1,4</th>\n",
       "      <th>1,2,2</th>\n",
       "      <th>2,2,5</th>\n",
       "      <th>4,6</th>\n",
       "      <th>12</th>\n",
       "      <th>2,1,4</th>\n",
       "      <th>2,4</th>\n",
       "      <th>7</th>\n",
       "    </tr>\n",
       "  </thead>\n",
       "  <tbody>\n",
       "    <tr>\n",
       "      <th>2,2</th>\n",
       "      <td>?</td>\n",
       "      <td>?</td>\n",
       "      <td>?</td>\n",
       "      <td>?</td>\n",
       "      <td>?</td>\n",
       "      <td>?</td>\n",
       "      <td>?</td>\n",
       "      <td>?</td>\n",
       "      <td>?</td>\n",
       "      <td>?</td>\n",
       "      <td>?</td>\n",
       "      <td>?</td>\n",
       "      <td>?</td>\n",
       "    </tr>\n",
       "    <tr>\n",
       "      <th>4,4</th>\n",
       "      <td>?</td>\n",
       "      <td>?</td>\n",
       "      <td>?</td>\n",
       "      <td>?</td>\n",
       "      <td>?</td>\n",
       "      <td>?</td>\n",
       "      <td>?</td>\n",
       "      <td>?</td>\n",
       "      <td>?</td>\n",
       "      <td>O</td>\n",
       "      <td>?</td>\n",
       "      <td>?</td>\n",
       "      <td>?</td>\n",
       "    </tr>\n",
       "    <tr>\n",
       "      <th>11</th>\n",
       "      <td>?</td>\n",
       "      <td>?</td>\n",
       "      <td>O</td>\n",
       "      <td>O</td>\n",
       "      <td>O</td>\n",
       "      <td>O</td>\n",
       "      <td>O</td>\n",
       "      <td>O</td>\n",
       "      <td>O</td>\n",
       "      <td>O</td>\n",
       "      <td>O</td>\n",
       "      <td>?</td>\n",
       "      <td>?</td>\n",
       "    </tr>\n",
       "    <tr>\n",
       "      <th>2,2</th>\n",
       "      <td>?</td>\n",
       "      <td>?</td>\n",
       "      <td>?</td>\n",
       "      <td>?</td>\n",
       "      <td>?</td>\n",
       "      <td>?</td>\n",
       "      <td>?</td>\n",
       "      <td>?</td>\n",
       "      <td>O</td>\n",
       "      <td>O</td>\n",
       "      <td>?</td>\n",
       "      <td>?</td>\n",
       "      <td>?</td>\n",
       "    </tr>\n",
       "    <tr>\n",
       "      <th>1,2,2,3</th>\n",
       "      <td>?</td>\n",
       "      <td>?</td>\n",
       "      <td>?</td>\n",
       "      <td>?</td>\n",
       "      <td>?</td>\n",
       "      <td>?</td>\n",
       "      <td>?</td>\n",
       "      <td>?</td>\n",
       "      <td>?</td>\n",
       "      <td>O</td>\n",
       "      <td>O</td>\n",
       "      <td>?</td>\n",
       "      <td>?</td>\n",
       "    </tr>\n",
       "    <tr>\n",
       "      <th>1,2,2,1,2</th>\n",
       "      <td>?</td>\n",
       "      <td>O</td>\n",
       "      <td>?</td>\n",
       "      <td>?</td>\n",
       "      <td>?</td>\n",
       "      <td>?</td>\n",
       "      <td>?</td>\n",
       "      <td>?</td>\n",
       "      <td>?</td>\n",
       "      <td>O</td>\n",
       "      <td>?</td>\n",
       "      <td>O</td>\n",
       "      <td>?</td>\n",
       "    </tr>\n",
       "    <tr>\n",
       "      <th>1,1,1,1</th>\n",
       "      <td>?</td>\n",
       "      <td>O</td>\n",
       "      <td>?</td>\n",
       "      <td>?</td>\n",
       "      <td>?</td>\n",
       "      <td>?</td>\n",
       "      <td>?</td>\n",
       "      <td>?</td>\n",
       "      <td>?</td>\n",
       "      <td>O</td>\n",
       "      <td>?</td>\n",
       "      <td>?</td>\n",
       "      <td>O</td>\n",
       "    </tr>\n",
       "    <tr>\n",
       "      <th>2,2,1</th>\n",
       "      <td>?</td>\n",
       "      <td>O</td>\n",
       "      <td>?</td>\n",
       "      <td>?</td>\n",
       "      <td>?</td>\n",
       "      <td>?</td>\n",
       "      <td>?</td>\n",
       "      <td>?</td>\n",
       "      <td>O</td>\n",
       "      <td>O</td>\n",
       "      <td>?</td>\n",
       "      <td>?</td>\n",
       "      <td>?</td>\n",
       "    </tr>\n",
       "    <tr>\n",
       "      <th>8,1</th>\n",
       "      <td>?</td>\n",
       "      <td>?</td>\n",
       "      <td>?</td>\n",
       "      <td>O</td>\n",
       "      <td>O</td>\n",
       "      <td>O</td>\n",
       "      <td>O</td>\n",
       "      <td>O</td>\n",
       "      <td>O</td>\n",
       "      <td>O</td>\n",
       "      <td>?</td>\n",
       "      <td>?</td>\n",
       "      <td>?</td>\n",
       "    </tr>\n",
       "    <tr>\n",
       "      <th>10</th>\n",
       "      <td>?</td>\n",
       "      <td>?</td>\n",
       "      <td>?</td>\n",
       "      <td>O</td>\n",
       "      <td>O</td>\n",
       "      <td>O</td>\n",
       "      <td>O</td>\n",
       "      <td>O</td>\n",
       "      <td>O</td>\n",
       "      <td>O</td>\n",
       "      <td>?</td>\n",
       "      <td>?</td>\n",
       "      <td>?</td>\n",
       "    </tr>\n",
       "    <tr>\n",
       "      <th>3,6</th>\n",
       "      <td>?</td>\n",
       "      <td>?</td>\n",
       "      <td>?</td>\n",
       "      <td>O</td>\n",
       "      <td>?</td>\n",
       "      <td>?</td>\n",
       "      <td>?</td>\n",
       "      <td>O</td>\n",
       "      <td>O</td>\n",
       "      <td>O</td>\n",
       "      <td>?</td>\n",
       "      <td>?</td>\n",
       "      <td>?</td>\n",
       "    </tr>\n",
       "    <tr>\n",
       "      <th>3,6</th>\n",
       "      <td>?</td>\n",
       "      <td>?</td>\n",
       "      <td>?</td>\n",
       "      <td>?</td>\n",
       "      <td>?</td>\n",
       "      <td>?</td>\n",
       "      <td>?</td>\n",
       "      <td>O</td>\n",
       "      <td>O</td>\n",
       "      <td>O</td>\n",
       "      <td>?</td>\n",
       "      <td>?</td>\n",
       "      <td>?</td>\n",
       "    </tr>\n",
       "    <tr>\n",
       "      <th>2,2,2</th>\n",
       "      <td>?</td>\n",
       "      <td>?</td>\n",
       "      <td>?</td>\n",
       "      <td>?</td>\n",
       "      <td>?</td>\n",
       "      <td>?</td>\n",
       "      <td>?</td>\n",
       "      <td>?</td>\n",
       "      <td>?</td>\n",
       "      <td>?</td>\n",
       "      <td>?</td>\n",
       "      <td>?</td>\n",
       "      <td>?</td>\n",
       "    </tr>\n",
       "  </tbody>\n",
       "</table>\n",
       "</div>"
      ],
      "text/plain": [
       "           2  8 4,2 2,2,5 1,2,5 1,1,4 1,2,2 2,2,5 4,6 12 2,1,4 2,4  7\n",
       "2,2        ?  ?   ?     ?     ?     ?     ?     ?   ?  ?     ?   ?  ?\n",
       "4,4        ?  ?   ?     ?     ?     ?     ?     ?   ?  O     ?   ?  ?\n",
       "11         ?  ?   O     O     O     O     O     O   O  O     O   ?  ?\n",
       "2,2        ?  ?   ?     ?     ?     ?     ?     ?   O  O     ?   ?  ?\n",
       "1,2,2,3    ?  ?   ?     ?     ?     ?     ?     ?   ?  O     O   ?  ?\n",
       "1,2,2,1,2  ?  O   ?     ?     ?     ?     ?     ?   ?  O     ?   O  ?\n",
       "1,1,1,1    ?  O   ?     ?     ?     ?     ?     ?   ?  O     ?   ?  O\n",
       "2,2,1      ?  O   ?     ?     ?     ?     ?     ?   O  O     ?   ?  ?\n",
       "8,1        ?  ?   ?     O     O     O     O     O   O  O     ?   ?  ?\n",
       "10         ?  ?   ?     O     O     O     O     O   O  O     ?   ?  ?\n",
       "3,6        ?  ?   ?     O     ?     ?     ?     O   O  O     ?   ?  ?\n",
       "3,6        ?  ?   ?     ?     ?     ?     ?     O   O  O     ?   ?  ?\n",
       "2,2,2      ?  ?   ?     ?     ?     ?     ?     ?   ?  ?     ?   ?  ?"
      ]
     },
     "execution_count": 166,
     "metadata": {},
     "output_type": "execute_result"
    }
   ],
   "source": [
    "nl = NemoLogic(\n",
    "    questions_row=questions_row,\n",
    "    questions_col=questions_col,\n",
    ")\n",
    "answer_df = nl.fit_transform(\n",
    "    n_trial=100,\n",
    "    progress=True,\n",
    ")\n",
    "answer_df"
   ]
  },
  {
   "cell_type": "code",
   "execution_count": 167,
   "id": "2a0c45ab-edc3-418c-a8f5-45ea307e3014",
   "metadata": {},
   "outputs": [],
   "source": [
    "# 1. add_x_front, add_x_back 만들기\n",
    "# (1) 열 뒤에서 3번째의 2,1,4 넣는거 로직만들기 (앞에꺼 2가 들어갈수없으니까,...)\n",
    "# (2) 행 앞에서 5번째의 1,2,2,3 -> 3뒤에 X 넣는거 로직만들기\n",
    "\n",
    "# ->\n",
    "# O안나왔었고"
   ]
  },
  {
   "cell_type": "code",
   "execution_count": 162,
   "id": "5fa2cf7b-b5bc-4712-8b86-fb1a12550447",
   "metadata": {},
   "outputs": [
    {
     "data": {
      "text/plain": [
       "'2,1,4'"
      ]
     },
     "metadata": {},
     "output_type": "display_data"
    },
    {
     "data": {
      "text/plain": [
       "['?', '?', 'O', '?', 'O', '?', '?', '?', '?', '?', '?', '?', '?']"
      ]
     },
     "metadata": {},
     "output_type": "display_data"
    },
    {
     "name": "stdout",
     "output_type": "stream",
     "text": [
      "\n",
      "a_i: 2, changed\n",
      "12\n",
      "11\n",
      "10\n",
      "9\n",
      "8\n",
      "7\n",
      "6\n",
      "5\n",
      "4\n",
      "a_i: 4, changed\n",
      "3\n",
      "2\n",
      "1\n",
      "0\n"
     ]
    },
    {
     "name": "stderr",
     "output_type": "stream",
     "text": [
      "/var/folders/4s/0m_928_d0z7c8r5nngpf8rtm0000gn/T/ipykernel_18537/1545334130.py:13: FutureWarning: elementwise comparison failed; returning scalar instead, but in the future will perform elementwise comparison\n",
      "  is_all_unknown  = np.where(np.array(new_answer[:a_i])!='?',1,0).sum()==0\n",
      "/var/folders/4s/0m_928_d0z7c8r5nngpf8rtm0000gn/T/ipykernel_18537/1545334130.py:24: FutureWarning: elementwise comparison failed; returning scalar instead, but in the future will perform elementwise comparison\n",
      "  is_all_unknown  = np.where(np.array(new_answer[a_i+1:])!='?',1,0).sum()==0\n"
     ]
    }
   ],
   "source": [
    "    #------------------------------------------------------------------#\n",
    "    # [fn7] 뒤에 O가 있고, \n",
    "    # ex. question : (2,1)\n",
    "    #     answer   : (O,?,X,O,X)\n",
    "    #     ->\n",
    "    #     answer   : (O,O,X,O,X)\n",
    "    #------------------------------------------------------------------#\n",
    "    def _add_x(self,questions,answers):\n",
    "        questions = np.array(questions)\n",
    "        answers   = np.array(answers)\n",
    "        new_answers = []\n",
    "        for question,answer in zip(questions,answers):\n",
    "            question_list = [int(x) for x in question.split(',')]\n",
    "            new_answer = answer.copy()\n",
    "            \n",
    "            if len(question_list)>2:\n",
    "                pass\n",
    "            else:\n",
    "\n",
    "                # 앞으로부터\n",
    "                q_i=0\n",
    "                for a_i in np.arange(0,len(new_answer),1):\n",
    "                    is_bf_all_unknown = np.where(np.array(new_answer[:a_i])!='?',1,0).sum()==0\n",
    "                    is_now_answer_o   = new_answer[a_i]=='O'\n",
    "                    is_af_any_o       = np.where(np.array(new_answer[a_i+1:])=='O',1,0).sum()>0\n",
    "                    is_first_o_loc    = len(new_answer[:a_i])>=question_list[q_i]\n",
    "                    if is_bf_all_unknown & is_now_answer_o & is_af_any_o & is_first_o_loc:\n",
    "                        #print('a_i: {}, changed'.format(a_i))\n",
    "                        new_answer = ['X']*len(new_answer[:a_i-question_list[q_i]+1]) + new_answer[a_i-question_list[q_i]+1:]\n",
    "\n",
    "                # 뒤로부터\n",
    "                q_i=-1\n",
    "                for a_i in np.arange(0,len(new_answer),1)[::-1]:\n",
    "                    print(a_i)\n",
    "                    is_af_all_unknown = np.where(np.array(new_answer[a_i+1:])!='?',1,0).sum()==0\n",
    "                    is_now_answer_o   = new_answer[a_i]=='O'\n",
    "                    is_bf_any_o       = np.where(np.array(new_answer[:a_i])=='O',1,0).sum()>0\n",
    "                    is_first_o_loc    = len(new_answer[a_i+1:])>=question_list[q_i]\n",
    "                    if is_af_all_unknown & is_now_answer_o & is_bf_any_o & is_first_o_loc:\n",
    "                        #print('a_i: {}, changed'.format(a_i))\n",
    "                        new_answer = new_answer[:a_i+question_list[q_i]] + ['X']*len(new_answer[a_i+question_list[q_i]:])\n",
    "                \n",
    "                # final append\n",
    "                new_answers.append(new_answer)\n",
    "                \n",
    "        return new_answers"
   ]
  },
  {
   "cell_type": "code",
   "execution_count": 163,
   "id": "7955d5b6-7b17-4560-8bd1-1e26a453c2e5",
   "metadata": {},
   "outputs": [
    {
     "data": {
      "text/plain": [
       "['?', '?', 'O', '?', 'O', '?', '?', '?', '?', '?', '?', '?', '?']"
      ]
     },
     "metadata": {},
     "output_type": "display_data"
    },
    {
     "data": {
      "text/plain": [
       "['X', '?', 'O', '?', 'O', '?', '?', '?', 'X', 'X', 'X', 'X', 'X']"
      ]
     },
     "metadata": {},
     "output_type": "display_data"
    }
   ],
   "source": [
    "display(answer)\n",
    "display(new_answer)"
   ]
  },
  {
   "cell_type": "code",
   "execution_count": 193,
   "id": "69c9fdd9-4046-4cd5-905e-952284137d6c",
   "metadata": {},
   "outputs": [],
   "source": [
    "def check_answer_dist(answer):\n",
    "\n",
    "    repeat_o_cnt=0\n",
    "    repeat_x_cnt=0\n",
    "    repeat_u_cnt=0\n",
    "    repeat_list=[]\n",
    "    for a_i in range(len(answer)):\n",
    "        # (1) 마지막 iteration\n",
    "        # -> 마지막 연속개수 넣기\n",
    "        if a_i+1==len(answer):\n",
    "            if answer[a_i]=='O':\n",
    "                repeat_list.append(['O',repeat_o_cnt])\n",
    "            elif answer[a_i]=='X':\n",
    "                repeat_list.append(['X',repeat_x_cnt])\n",
    "            elif answer[a_i]=='?':\n",
    "                repeat_list.append(['?',repeat_u_cnt])\n",
    "            else:\n",
    "                raise ValueError(f\"{a_i}'s answer must be in ['O','X','?']\")\n",
    "\n",
    "        # (2) O인 경우 : 연속O의개수+1, X,?는 저장하기\n",
    "        elif answer[a_i]=='O':\n",
    "            repeat_o_cnt+=1\n",
    "            if repeat_x_cnt!=0:\n",
    "                repeat_list.append(['X',repeat_x_cnt])\n",
    "            elif repeat_u_cnt!=0:\n",
    "                repeat_list.append(['?',repeat_u_cnt])\n",
    "            else:\n",
    "                pass\n",
    "            repeat_x_cnt=0\n",
    "            repeat_u_cnt=0\n",
    "        # (3) X인 경우 : 연속X의개수+1, O,?는 저장하기\n",
    "        elif answer[a_i]=='X':\n",
    "            repeat_x_cnt+=1\n",
    "            if repeat_o_cnt!=0:\n",
    "                repeat_list.append(['O',repeat_o_cnt])\n",
    "            elif repeat_u_cnt!=0:\n",
    "                repeat_list.append(['?',repeat_u_cnt])\n",
    "            else:\n",
    "                pass\n",
    "            repeat_o_cnt=0\n",
    "            repeat_u_cnt=0\n",
    "        # (4) ?인 경우 : 연속?의개수+1, O,X는 저장하기\n",
    "        elif answer[a_i]=='?':\n",
    "            repeat_u_cnt+=1\n",
    "            if repeat_o_cnt!=0:\n",
    "                repeat_list.append(['O',repeat_o_cnt])\n",
    "            elif repeat_x_cnt!=0:\n",
    "                repeat_list.append(['X',repeat_x_cnt])\n",
    "            else:\n",
    "                pass\n",
    "            repeat_o_cnt=0\n",
    "            repeat_x_cnt=0\n",
    "        else:\n",
    "            raise ValueError(f\"{a_i}'s answer must be in ['O','X','?']\")\n",
    "    return repeat_list"
   ]
  },
  {
   "cell_type": "code",
   "execution_count": 195,
   "id": "7a802915-a688-4665-b41e-04dd65438bfa",
   "metadata": {},
   "outputs": [
    {
     "data": {
      "text/plain": [
       "['?', '?', 'O', '?', 'O', '?', '?', '?', '?', '?', '?', '?', '?']"
      ]
     },
     "execution_count": 195,
     "metadata": {},
     "output_type": "execute_result"
    }
   ],
   "source": [
    "answer"
   ]
  },
  {
   "cell_type": "code",
   "execution_count": 194,
   "id": "9b375f75-92e0-49b2-8171-d0eda4f1100c",
   "metadata": {},
   "outputs": [
    {
     "data": {
      "text/plain": [
       "[['?', 2], ['O', 1], ['?', 1], ['O', 1], ['?', 7]]"
      ]
     },
     "execution_count": 194,
     "metadata": {},
     "output_type": "execute_result"
    }
   ],
   "source": [
    "check_answer_dist(new_answer)"
   ]
  },
  {
   "cell_type": "code",
   "execution_count": 197,
   "id": "20989994-1a18-4fac-9d60-ea4fe7ed449c",
   "metadata": {},
   "outputs": [
    {
     "data": {
      "text/plain": [
       "True"
      ]
     },
     "execution_count": 197,
     "metadata": {},
     "output_type": "execute_result"
    }
   ],
   "source": [
    "question_list = [int(q) for q in question.split(',')]\n",
    "key_list = [key for key,value in check_answer_dist(new_answer)]\n",
    "np.where(np.array(key_list)=='O',1,0).sum()+1 >= len(question_list)"
   ]
  },
  {
   "cell_type": "code",
   "execution_count": 267,
   "id": "2239ed0c-b664-471c-927e-a3359245afe2",
   "metadata": {},
   "outputs": [
    {
     "data": {
      "text/plain": [
       "[4]"
      ]
     },
     "execution_count": 267,
     "metadata": {},
     "output_type": "execute_result"
    }
   ],
   "source": [
    "question_list[2:]"
   ]
  },
  {
   "cell_type": "code",
   "execution_count": 352,
   "id": "0866bf73-f885-4611-8443-62bf2f93bc5a",
   "metadata": {},
   "outputs": [
    {
     "name": "stdout",
     "output_type": "stream",
     "text": [
      "(o_idx,q)=(2,2) front OK. q=2\n",
      "(o_idx,q)=(2,2)  back NO.\n",
      "1,1\n",
      "(o_idx,q)=(2,1) front OK. q=NaN\n",
      "(o_idx,q)=(2,1)  back OK. q=NaN\n",
      "(o_idx,q)=(2,4) front OK. q=NaN\n",
      "(o_idx,q)=(2,4)  back NO.\n",
      "(o_idx,q)=(4,2) front NO.\n",
      "(o_idx,q)=(4,2)  back OK. q=NaN\n",
      "(o_idx,q)=(4,1) front NO.\n",
      "(o_idx,q)=(4,1)  back OK. q=NaN\n",
      "(o_idx,q)=(4,4) front NO.\n",
      "(o_idx,q)=(4,4)  back OK. q=4\n"
     ]
    }
   ],
   "source": [
    "o_idxs = np.where(np.array(answer)=='O')[0]\n",
    "for o_idx in o_idxs:\n",
    "    \n",
    "    for q_i in range(len(question_list)):\n",
    "        q = question_list[q_i]\n",
    "\n",
    "        # if (o_idx==2) & (q==4):\n",
    "        #     adfdsf\n",
    "\n",
    "        # 1. 앞에서 확인\n",
    "        # (1) 확인할 index가 범위 내 인지 확인\n",
    "        # (2) O를 채워서 확인할 범위가 모두 ?인지 확인\n",
    "        # (3) O를 채운 뒤에, block이 있는지 확인\n",
    "        is_possible_idx = q-o_idx+1>=0\n",
    "        if is_possible_idx:\n",
    "            has_all_unknown = len([a for a in answer[o_idx-q+1:o_idx] if a!='?'])==0\n",
    "            has_block       = answer[o_idx-q+1-1]!='O'\n",
    "            if has_all_unknown & has_block:\n",
    "                new_answer = answer[:o_idx-q+1] + ['O']*len(answer[o_idx-q+1:o_idx]) + answer[o_idx:]\n",
    "                check_question = ','.join([str(value) for key,value in check_answer_dist(new_answer) if key=='O'])\n",
    "                can_question = str(q) if question.find(check_question)>=0 else 'NaN'\n",
    "                if (o_idx==2) & (q==1): print(check_question)\n",
    "                print(f'(o_idx,q)=({o_idx},{q}) front OK. q={can_question}')\n",
    "            else:\n",
    "                print(f'(o_idx,q)=({o_idx},{q}) front NO.')\n",
    "        else:\n",
    "            print(f'(o_idx,q)=({o_idx},{q}) front NO.')\n",
    "\n",
    "        # 2. 뒤에서 확인\n",
    "        # (1) 확인할 index가 범위 내 인지 확인\n",
    "        # (2) O를 채워서 확인할 범위가 모두 ?인지 확인\n",
    "        # (3) O를 채운 뒤에, block이 있는지 확인\n",
    "        is_possible_idx = o_idx+q+1<=len(answer)\n",
    "        if is_possible_idx:\n",
    "            has_all_unknown = len([a for a in answer[o_idx+1:o_idx+q] if a!='?'])==0\n",
    "            has_block       = answer[o_idx+q]!='O'\n",
    "            if has_all_unknown & has_block:\n",
    "                new_answer = answer[:o_idx+1] + ['O']*len(answer[o_idx+1:o_idx+q]) + answer[o_idx+q:]\n",
    "                check_question = ','.join([str(value) for key,value in check_answer_dist(new_answer) if key=='O'])\n",
    "                can_question = str(q) if question.find(check_question)>=0 else 'NaN'\n",
    "                print(f'(o_idx,q)=({o_idx},{q})  back OK. q={can_question}')\n",
    "            else:\n",
    "                print(f'(o_idx,q)=({o_idx},{q})  back NO.')\n",
    "        else:\n",
    "            print(f'(o_idx,q)=({o_idx},{q})  back NO.')"
   ]
  },
  {
   "cell_type": "code",
   "execution_count": null,
   "id": "0d0c67a1-2f1f-43fd-92a3-1faf8396f62e",
   "metadata": {},
   "outputs": [
    {
     "data": {
      "text/plain": [
       "(['?', '?'], [], ['O', '?', 'O', '?', '?', '?', '?', '?', '?', '?', '?'])"
      ]
     },
     "execution_count": 349,
     "metadata": {},
     "output_type": "execute_result"
    }
   ],
   "source": [
    "answer[:o_idx-q+1],['O']*len(answer[o_idx-q+1:o_idx]), answer[o_idx:]"
   ]
  },
  {
   "cell_type": "code",
   "execution_count": null,
   "id": "1352f0ee-e841-44bc-aed1-991f9cef2420",
   "metadata": {},
   "outputs": [
    {
     "data": {
      "text/plain": [
       "['?', '?']"
      ]
     },
     "execution_count": 342,
     "metadata": {},
     "output_type": "execute_result"
    }
   ],
   "source": [
    "answer[q-o_idx+1:o_idx]"
   ]
  },
  {
   "cell_type": "code",
   "execution_count": 348,
   "id": "cf55a7de-2bfb-4a2c-bdb4-69d8784d8aa4",
   "metadata": {},
   "outputs": [
    {
     "data": {
      "text/plain": [
       "(1, 2)"
      ]
     },
     "execution_count": 348,
     "metadata": {},
     "output_type": "execute_result"
    }
   ],
   "source": [
    "answer[o_idx-q+1:o_idx]\n",
    "o_idx-q,o_idx"
   ]
  },
  {
   "cell_type": "code",
   "execution_count": 344,
   "id": "219ff358-3c84-4fae-ac95-59f37ef9cc04",
   "metadata": {},
   "outputs": [
    {
     "data": {
      "text/plain": [
       "['?', '?', 'O', '?', 'O', '?', '?', '?', '?', '?', '?', '?', '?']"
      ]
     },
     "execution_count": 344,
     "metadata": {},
     "output_type": "execute_result"
    }
   ],
   "source": [
    "answer"
   ]
  },
  {
   "cell_type": "code",
   "execution_count": null,
   "id": "c2af9b4c-01ea-4388-bd29-723a52dcab44",
   "metadata": {},
   "outputs": [],
   "source": [
    "is_possible_idx = q-o_idx+1>=0\n",
    "if is_possible_idx:\n",
    "    has_all_unknown = np.where(np.array(answer[q-o_idx+1:o_idx])!='?',1,0).sum()==0\n",
    "    has_block       = answer[q-o_idx+1-1]!='O'\n",
    "    if has_all_unknown & has_block:\n",
    "        new_answer = answer[:q-o_idx+1] + ['O']*len(answer[q-o_idx+1:o_idx]) + answer[o_idx:]\n",
    "        check_question = ','.join([str(value) for key,value in check_answer_dist(new_answer) if key=='O'])\n",
    "        can_question = str(q) if question.find(check_question)>=0 else 'NaN'\n",
    "        print(f'(q,o_idx)=({q},{o_idx}) front OK. q={can_question}')\n",
    "    else:\n",
    "        print(f'(q,o_idx)=({q},{o_idx}) front NO.')\n",
    "else:\n",
    "    print(f'(q,o_idx)=({q},{o_idx}) front NO.')"
   ]
  },
  {
   "cell_type": "code",
   "execution_count": 320,
   "id": "82b9f0f1-ebfc-4a00-95a4-c108dfb2d255",
   "metadata": {},
   "outputs": [
    {
     "name": "stderr",
     "output_type": "stream",
     "text": [
      "/var/folders/4s/0m_928_d0z7c8r5nngpf8rtm0000gn/T/ipykernel_18537/3556158143.py:1: FutureWarning: elementwise comparison failed; returning scalar instead, but in the future will perform elementwise comparison\n",
      "  np.array(answer[q-o_idx+1:o_idx])!=['?']\n"
     ]
    },
    {
     "data": {
      "text/plain": [
       "True"
      ]
     },
     "execution_count": 320,
     "metadata": {},
     "output_type": "execute_result"
    }
   ],
   "source": [
    "np.array(answer[q-o_idx+1:o_idx])!="
   ]
  },
  {
   "cell_type": "code",
   "execution_count": 306,
   "id": "e6f6688e-7948-4d1c-b0cc-9022ff916485",
   "metadata": {},
   "outputs": [
    {
     "data": {
      "text/plain": [
       "['O', 'O', 'O', '?', 'O', '?', '?', '?', '?', '?', '?', '?', '?']"
      ]
     },
     "execution_count": 306,
     "metadata": {},
     "output_type": "execute_result"
    }
   ],
   "source": [
    "answer[:q-o_idx+1] + ['O']*len(answer[q-o_idx+1:o_idx]) + answer[o_idx:]"
   ]
  },
  {
   "cell_type": "code",
   "execution_count": 315,
   "id": "9c5016e8-69dc-4811-9c7e-bf2f0304238a",
   "metadata": {},
   "outputs": [
    {
     "data": {
      "text/plain": [
       "(4, 1)"
      ]
     },
     "execution_count": 315,
     "metadata": {},
     "output_type": "execute_result"
    }
   ],
   "source": [
    "o_idx,q"
   ]
  },
  {
   "cell_type": "code",
   "execution_count": 296,
   "id": "2755edbd-20aa-4858-baaf-853b8556c78f",
   "metadata": {},
   "outputs": [
    {
     "data": {
      "text/plain": [
       "['?', '?', 'O', '?', 'O', '?', '?', '?', '?', '?', '?', '?', '?']"
      ]
     },
     "execution_count": 296,
     "metadata": {},
     "output_type": "execute_result"
    }
   ],
   "source": [
    "answer"
   ]
  },
  {
   "cell_type": "code",
   "execution_count": 298,
   "id": "c91a1873-fd42-4d85-a8a5-d8c8ab091b8d",
   "metadata": {},
   "outputs": [
    {
     "data": {
      "text/plain": [
       "'2,1,4'"
      ]
     },
     "execution_count": 298,
     "metadata": {},
     "output_type": "execute_result"
    }
   ],
   "source": [
    "question"
   ]
  },
  {
   "cell_type": "code",
   "execution_count": 297,
   "id": "20477492-9f68-4d8b-a723-6973dc57fa4d",
   "metadata": {},
   "outputs": [
    {
     "name": "stderr",
     "output_type": "stream",
     "text": [
      "/var/folders/4s/0m_928_d0z7c8r5nngpf8rtm0000gn/T/ipykernel_18537/1853969893.py:1: FutureWarning: elementwise comparison failed; returning scalar instead, but in the future will perform elementwise comparison\n",
      "  np.where(np.array(answer[o_idx+1:o_idx+q])!='?',1,0).sum()==0\n"
     ]
    },
    {
     "data": {
      "text/plain": [
       "[]"
      ]
     },
     "execution_count": 297,
     "metadata": {},
     "output_type": "execute_result"
    }
   ],
   "source": [
    "np.where(np.array(answer[o_idx+1:o_idx+q])!='?',1,0).sum()==0\n",
    "answer[o_idx+1:o_idx+q]"
   ]
  }
 ],
 "metadata": {
  "kernelspec": {
   "display_name": "Python 3 (ipykernel)",
   "language": "python",
   "name": "python3"
  },
  "language_info": {
   "codemirror_mode": {
    "name": "ipython",
    "version": 3
   },
   "file_extension": ".py",
   "mimetype": "text/x-python",
   "name": "python",
   "nbconvert_exporter": "python",
   "pygments_lexer": "ipython3",
   "version": "3.8.10"
  }
 },
 "nbformat": 4,
 "nbformat_minor": 5
}
